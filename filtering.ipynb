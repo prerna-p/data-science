{
 "cells": [
  {
   "cell_type": "code",
   "execution_count": 28,
   "metadata": {},
   "outputs": [],
   "source": [
    "import numpy as np\n",
    "from math import sqrt\n",
    "import pandas as pd"
   ]
  },
  {
   "cell_type": "code",
   "execution_count": 3,
   "metadata": {},
   "outputs": [],
   "source": [
    "critics={'Lisa Rose': {'Lady in the Water': 2.5, 'Snakes on a Plane': 3.5,\n",
    "'Just My Luck': 3.0, 'Superman Returns': 3.5, 'You, Me and Dupree': 2.5,\n",
    "'The Night Listener': 3.0},\n",
    "'Gene Seymour': {'Lady in the Water': 3.0, 'Snakes on a Plane': 3.5,\n",
    "'Just My Luck': 1.5, 'Superman Returns': 5.0, 'The Night Listener': 3.0,\n",
    "'You, Me and Dupree': 3.5},\n",
    "'Michael Phillips': {'Lady in the Water': 2.5, 'Snakes on a Plane': 3.0,\n",
    "'Superman Returns': 3.5, 'The Night Listener': 4.0},\n",
    "'Claudia Puig': {'Snakes on a Plane': 3.5, 'Just My Luck': 3.0,\n",
    "'The Night Listener': 4.5, 'Superman Returns': 4.0,\n",
    "'You, Me and Dupree': 2.5},\n",
    "'Mick LaSalle': {'Lady in the Water': 3.0, 'Snakes on a Plane': 4.0,\n",
    "'Just My Luck': 2.0, 'Superman Returns': 3.0, 'The Night Listener': 3.0,\n",
    "'You, Me and Dupree': 2.0},\n",
    "'Jack Matthews': {'Lady in the Water': 3.0, 'Snakes on a Plane': 4.0,\n",
    "'The Night Listener': 3.0, 'Superman Returns': 5.0, 'You, Me and Dupree': 3.5},\n",
    "'Toby': {'Snakes on a Plane':4.5,'You, Me and Dupree':1.0,'Superman Returns':4.0}}"
   ]
  },
  {
   "cell_type": "code",
   "execution_count": 4,
   "metadata": {},
   "outputs": [
    {
     "data": {
      "text/plain": [
       "{'Just My Luck': 2.0,\n",
       " 'Lady in the Water': 3.0,\n",
       " 'Snakes on a Plane': 4.0,\n",
       " 'Superman Returns': 3.0,\n",
       " 'The Night Listener': 3.0,\n",
       " 'You, Me and Dupree': 2.0}"
      ]
     },
     "execution_count": 4,
     "metadata": {},
     "output_type": "execute_result"
    }
   ],
   "source": [
    "critics['Mick LaSalle']"
   ]
  },
  {
   "cell_type": "code",
   "execution_count": 9,
   "metadata": {},
   "outputs": [
    {
     "data": {
      "text/plain": [
       "3.0"
      ]
     },
     "execution_count": 9,
     "metadata": {},
     "output_type": "execute_result"
    }
   ],
   "source": [
    "critics['Mick LaSalle']['Superman Returns']\n"
   ]
  },
  {
   "cell_type": "markdown",
   "metadata": {},
   "source": [
    "### Finding similar users"
   ]
  },
  {
   "cell_type": "code",
   "execution_count": 19,
   "metadata": {},
   "outputs": [],
   "source": [
    "# Euclidean distance\n",
    "def sim_distance(prefs, critic1, critic2):\n",
    "    si = {}\n",
    "    for film in prefs[critic1]:\n",
    "        if film in prefs[critic2]:\n",
    "            si[film] = 1\n",
    "            \n",
    "    if len(si) == 0: return 0\n",
    "    \n",
    "    similarity = sum([pow(prefs[critic1][film] - prefs[critic2][film],2) for film in si if si[film] == 1])\n",
    "    \n",
    "    return 1/(1 + sqrt(similarity))"
   ]
  },
  {
   "cell_type": "code",
   "execution_count": 20,
   "metadata": {},
   "outputs": [
    {
     "data": {
      "text/plain": [
       "0.3405424265831667"
      ]
     },
     "execution_count": 20,
     "metadata": {},
     "output_type": "execute_result"
    }
   ],
   "source": [
    "sim_distance(critics,'Gene Seymour', 'Michael Phillips')"
   ]
  },
  {
   "cell_type": "code",
   "execution_count": 72,
   "metadata": {},
   "outputs": [],
   "source": [
    "fp = open('critics.csv','w+')\n",
    "for critic1 in critics:\n",
    "    for critic2 in critics:\n",
    "        if critic1 != critic2:\n",
    "            s = critic1+\",\"+ critic2+\",\"+ str(sim_distance(critics,critic1,critic2)) + \"\\n\"\n",
    "            fp.write(s)\n",
    "fp.close()"
   ]
  },
  {
   "cell_type": "code",
   "execution_count": 76,
   "metadata": {},
   "outputs": [
    {
     "data": {
      "text/plain": [
       "['Lisa Rose,Gene Seymour,0.29429805508554946\\n',\n",
       " 'Lisa Rose,Michael Phillips,0.4721359549995794\\n',\n",
       " 'Lisa Rose,Claudia Puig,0.38742588672279304\\n',\n",
       " 'Lisa Rose,Mick LaSalle,0.4142135623730951\\n',\n",
       " 'Lisa Rose,Jack Matthews,0.3405424265831667\\n',\n",
       " 'Lisa Rose,Toby,0.3483314773547883\\n',\n",
       " 'Gene Seymour,Lisa Rose,0.29429805508554946\\n',\n",
       " 'Gene Seymour,Michael Phillips,0.3405424265831667\\n',\n",
       " 'Gene Seymour,Claudia Puig,0.28172904669025317\\n',\n",
       " 'Gene Seymour,Mick LaSalle,0.27792629762666365\\n',\n",
       " 'Gene Seymour,Jack Matthews,0.6666666666666666\\n',\n",
       " 'Gene Seymour,Toby,0.25824569976124334\\n',\n",
       " 'Michael Phillips,Lisa Rose,0.4721359549995794\\n',\n",
       " 'Michael Phillips,Gene Seymour,0.3405424265831667\\n',\n",
       " 'Michael Phillips,Claudia Puig,0.5358983848622454\\n',\n",
       " 'Michael Phillips,Mick LaSalle,0.38742588672279304\\n',\n",
       " 'Michael Phillips,Jack Matthews,0.32037724101704074\\n',\n",
       " 'Michael Phillips,Toby,0.38742588672279304\\n',\n",
       " 'Claudia Puig,Lisa Rose,0.38742588672279304\\n',\n",
       " 'Claudia Puig,Gene Seymour,0.28172904669025317\\n',\n",
       " 'Claudia Puig,Michael Phillips,0.5358983848622454\\n',\n",
       " 'Claudia Puig,Mick LaSalle,0.31451985913875646\\n',\n",
       " 'Claudia Puig,Jack Matthews,0.32037724101704074\\n',\n",
       " 'Claudia Puig,Toby,0.3567891723253309\\n',\n",
       " 'Mick LaSalle,Lisa Rose,0.4142135623730951\\n',\n",
       " 'Mick LaSalle,Gene Seymour,0.27792629762666365\\n',\n",
       " 'Mick LaSalle,Michael Phillips,0.38742588672279304\\n',\n",
       " 'Mick LaSalle,Claudia Puig,0.31451985913875646\\n',\n",
       " 'Mick LaSalle,Jack Matthews,0.2857142857142857\\n',\n",
       " 'Mick LaSalle,Toby,0.4\\n',\n",
       " 'Jack Matthews,Lisa Rose,0.3405424265831667\\n',\n",
       " 'Jack Matthews,Gene Seymour,0.6666666666666666\\n',\n",
       " 'Jack Matthews,Michael Phillips,0.32037724101704074\\n',\n",
       " 'Jack Matthews,Claudia Puig,0.32037724101704074\\n',\n",
       " 'Jack Matthews,Mick LaSalle,0.2857142857142857\\n',\n",
       " 'Jack Matthews,Toby,0.2674788903885893\\n',\n",
       " 'Toby,Lisa Rose,0.3483314773547883\\n',\n",
       " 'Toby,Gene Seymour,0.25824569976124334\\n',\n",
       " 'Toby,Michael Phillips,0.38742588672279304\\n',\n",
       " 'Toby,Claudia Puig,0.3567891723253309\\n',\n",
       " 'Toby,Mick LaSalle,0.4\\n',\n",
       " 'Toby,Jack Matthews,0.2674788903885893\\n']"
      ]
     },
     "execution_count": 76,
     "metadata": {},
     "output_type": "execute_result"
    }
   ],
   "source": [
    "open('critics.csv','r').readlines()"
   ]
  },
  {
   "cell_type": "code",
   "execution_count": 108,
   "metadata": {},
   "outputs": [
    {
     "data": {
      "text/html": [
       "<div>\n",
       "<style scoped>\n",
       "    .dataframe tbody tr th:only-of-type {\n",
       "        vertical-align: middle;\n",
       "    }\n",
       "\n",
       "    .dataframe tbody tr th {\n",
       "        vertical-align: top;\n",
       "    }\n",
       "\n",
       "    .dataframe thead th {\n",
       "        text-align: right;\n",
       "    }\n",
       "</style>\n",
       "<table border=\"1\" class=\"dataframe\">\n",
       "  <thead>\n",
       "    <tr style=\"text-align: right;\">\n",
       "      <th></th>\n",
       "      <th>Critic</th>\n",
       "      <th>Critic 2</th>\n",
       "      <th>Similarity</th>\n",
       "    </tr>\n",
       "  </thead>\n",
       "  <tbody>\n",
       "    <tr>\n",
       "      <th>0</th>\n",
       "      <td>Lisa Rose</td>\n",
       "      <td>Gene Seymour</td>\n",
       "      <td>0.294298</td>\n",
       "    </tr>\n",
       "    <tr>\n",
       "      <th>1</th>\n",
       "      <td>Lisa Rose</td>\n",
       "      <td>Michael Phillips</td>\n",
       "      <td>0.472136</td>\n",
       "    </tr>\n",
       "    <tr>\n",
       "      <th>2</th>\n",
       "      <td>Lisa Rose</td>\n",
       "      <td>Claudia Puig</td>\n",
       "      <td>0.387426</td>\n",
       "    </tr>\n",
       "    <tr>\n",
       "      <th>3</th>\n",
       "      <td>Lisa Rose</td>\n",
       "      <td>Mick LaSalle</td>\n",
       "      <td>0.414214</td>\n",
       "    </tr>\n",
       "    <tr>\n",
       "      <th>4</th>\n",
       "      <td>Lisa Rose</td>\n",
       "      <td>Jack Matthews</td>\n",
       "      <td>0.340542</td>\n",
       "    </tr>\n",
       "  </tbody>\n",
       "</table>\n",
       "</div>"
      ],
      "text/plain": [
       "      Critic          Critic 2  Similarity\n",
       "0  Lisa Rose      Gene Seymour    0.294298\n",
       "1  Lisa Rose  Michael Phillips    0.472136\n",
       "2  Lisa Rose      Claudia Puig    0.387426\n",
       "3  Lisa Rose      Mick LaSalle    0.414214\n",
       "4  Lisa Rose     Jack Matthews    0.340542"
      ]
     },
     "execution_count": 108,
     "metadata": {},
     "output_type": "execute_result"
    }
   ],
   "source": [
    "scores = pd.read_csv('critics.csv',names=['Critic','Critic 2','Similarity'])\n",
    "scores.head()"
   ]
  },
  {
   "cell_type": "code",
   "execution_count": 109,
   "metadata": {},
   "outputs": [
    {
     "data": {
      "text/html": [
       "<div>\n",
       "<style scoped>\n",
       "    .dataframe tbody tr th:only-of-type {\n",
       "        vertical-align: middle;\n",
       "    }\n",
       "\n",
       "    .dataframe tbody tr th {\n",
       "        vertical-align: top;\n",
       "    }\n",
       "\n",
       "    .dataframe thead th {\n",
       "        text-align: right;\n",
       "    }\n",
       "</style>\n",
       "<table border=\"1\" class=\"dataframe\">\n",
       "  <thead>\n",
       "    <tr style=\"text-align: right;\">\n",
       "      <th></th>\n",
       "      <th>Critic</th>\n",
       "      <th>Critic 2</th>\n",
       "      <th>Similarity</th>\n",
       "    </tr>\n",
       "  </thead>\n",
       "  <tbody>\n",
       "    <tr>\n",
       "      <th>31</th>\n",
       "      <td>Jack Matthews</td>\n",
       "      <td>Gene Seymour</td>\n",
       "      <td>0.666667</td>\n",
       "    </tr>\n",
       "    <tr>\n",
       "      <th>10</th>\n",
       "      <td>Gene Seymour</td>\n",
       "      <td>Jack Matthews</td>\n",
       "      <td>0.666667</td>\n",
       "    </tr>\n",
       "    <tr>\n",
       "      <th>14</th>\n",
       "      <td>Michael Phillips</td>\n",
       "      <td>Claudia Puig</td>\n",
       "      <td>0.535898</td>\n",
       "    </tr>\n",
       "    <tr>\n",
       "      <th>20</th>\n",
       "      <td>Claudia Puig</td>\n",
       "      <td>Michael Phillips</td>\n",
       "      <td>0.535898</td>\n",
       "    </tr>\n",
       "    <tr>\n",
       "      <th>1</th>\n",
       "      <td>Lisa Rose</td>\n",
       "      <td>Michael Phillips</td>\n",
       "      <td>0.472136</td>\n",
       "    </tr>\n",
       "    <tr>\n",
       "      <th>12</th>\n",
       "      <td>Michael Phillips</td>\n",
       "      <td>Lisa Rose</td>\n",
       "      <td>0.472136</td>\n",
       "    </tr>\n",
       "    <tr>\n",
       "      <th>3</th>\n",
       "      <td>Lisa Rose</td>\n",
       "      <td>Mick LaSalle</td>\n",
       "      <td>0.414214</td>\n",
       "    </tr>\n",
       "    <tr>\n",
       "      <th>24</th>\n",
       "      <td>Mick LaSalle</td>\n",
       "      <td>Lisa Rose</td>\n",
       "      <td>0.414214</td>\n",
       "    </tr>\n",
       "    <tr>\n",
       "      <th>29</th>\n",
       "      <td>Mick LaSalle</td>\n",
       "      <td>Toby</td>\n",
       "      <td>0.400000</td>\n",
       "    </tr>\n",
       "    <tr>\n",
       "      <th>40</th>\n",
       "      <td>Toby</td>\n",
       "      <td>Mick LaSalle</td>\n",
       "      <td>0.400000</td>\n",
       "    </tr>\n",
       "  </tbody>\n",
       "</table>\n",
       "</div>"
      ],
      "text/plain": [
       "              Critic          Critic 2  Similarity\n",
       "31     Jack Matthews      Gene Seymour    0.666667\n",
       "10      Gene Seymour     Jack Matthews    0.666667\n",
       "14  Michael Phillips      Claudia Puig    0.535898\n",
       "20      Claudia Puig  Michael Phillips    0.535898\n",
       "1          Lisa Rose  Michael Phillips    0.472136\n",
       "12  Michael Phillips         Lisa Rose    0.472136\n",
       "3          Lisa Rose      Mick LaSalle    0.414214\n",
       "24      Mick LaSalle         Lisa Rose    0.414214\n",
       "29      Mick LaSalle              Toby    0.400000\n",
       "40              Toby      Mick LaSalle    0.400000"
      ]
     },
     "execution_count": 109,
     "metadata": {},
     "output_type": "execute_result"
    }
   ],
   "source": [
    "scores.sort_values('Similarity',ascending=False).head(10)"
   ]
  },
  {
   "cell_type": "code",
   "execution_count": 120,
   "metadata": {},
   "outputs": [],
   "source": [
    "# top 10 most similar critics\n",
    "top10 = scores.sort_values('Similarity',ascending=False).head(10).reset_index()\n",
    "top10.index+=1"
   ]
  },
  {
   "cell_type": "code",
   "execution_count": 118,
   "metadata": {},
   "outputs": [
    {
     "data": {
      "text/html": [
       "<div>\n",
       "<style scoped>\n",
       "    .dataframe tbody tr th:only-of-type {\n",
       "        vertical-align: middle;\n",
       "    }\n",
       "\n",
       "    .dataframe tbody tr th {\n",
       "        vertical-align: top;\n",
       "    }\n",
       "\n",
       "    .dataframe thead th {\n",
       "        text-align: right;\n",
       "    }\n",
       "</style>\n",
       "<table border=\"1\" class=\"dataframe\">\n",
       "  <thead>\n",
       "    <tr style=\"text-align: right;\">\n",
       "      <th></th>\n",
       "      <th>index</th>\n",
       "      <th>Critic</th>\n",
       "      <th>Critic 2</th>\n",
       "      <th>Similarity</th>\n",
       "    </tr>\n",
       "  </thead>\n",
       "  <tbody>\n",
       "    <tr>\n",
       "      <th>1</th>\n",
       "      <td>31</td>\n",
       "      <td>Jack Matthews</td>\n",
       "      <td>Gene Seymour</td>\n",
       "      <td>0.666667</td>\n",
       "    </tr>\n",
       "    <tr>\n",
       "      <th>2</th>\n",
       "      <td>10</td>\n",
       "      <td>Gene Seymour</td>\n",
       "      <td>Jack Matthews</td>\n",
       "      <td>0.666667</td>\n",
       "    </tr>\n",
       "    <tr>\n",
       "      <th>3</th>\n",
       "      <td>14</td>\n",
       "      <td>Michael Phillips</td>\n",
       "      <td>Claudia Puig</td>\n",
       "      <td>0.535898</td>\n",
       "    </tr>\n",
       "    <tr>\n",
       "      <th>4</th>\n",
       "      <td>20</td>\n",
       "      <td>Claudia Puig</td>\n",
       "      <td>Michael Phillips</td>\n",
       "      <td>0.535898</td>\n",
       "    </tr>\n",
       "    <tr>\n",
       "      <th>5</th>\n",
       "      <td>1</td>\n",
       "      <td>Lisa Rose</td>\n",
       "      <td>Michael Phillips</td>\n",
       "      <td>0.472136</td>\n",
       "    </tr>\n",
       "    <tr>\n",
       "      <th>6</th>\n",
       "      <td>12</td>\n",
       "      <td>Michael Phillips</td>\n",
       "      <td>Lisa Rose</td>\n",
       "      <td>0.472136</td>\n",
       "    </tr>\n",
       "    <tr>\n",
       "      <th>7</th>\n",
       "      <td>3</td>\n",
       "      <td>Lisa Rose</td>\n",
       "      <td>Mick LaSalle</td>\n",
       "      <td>0.414214</td>\n",
       "    </tr>\n",
       "    <tr>\n",
       "      <th>8</th>\n",
       "      <td>24</td>\n",
       "      <td>Mick LaSalle</td>\n",
       "      <td>Lisa Rose</td>\n",
       "      <td>0.414214</td>\n",
       "    </tr>\n",
       "    <tr>\n",
       "      <th>9</th>\n",
       "      <td>29</td>\n",
       "      <td>Mick LaSalle</td>\n",
       "      <td>Toby</td>\n",
       "      <td>0.400000</td>\n",
       "    </tr>\n",
       "    <tr>\n",
       "      <th>10</th>\n",
       "      <td>40</td>\n",
       "      <td>Toby</td>\n",
       "      <td>Mick LaSalle</td>\n",
       "      <td>0.400000</td>\n",
       "    </tr>\n",
       "  </tbody>\n",
       "</table>\n",
       "</div>"
      ],
      "text/plain": [
       "    index            Critic          Critic 2  Similarity\n",
       "1      31     Jack Matthews      Gene Seymour    0.666667\n",
       "2      10      Gene Seymour     Jack Matthews    0.666667\n",
       "3      14  Michael Phillips      Claudia Puig    0.535898\n",
       "4      20      Claudia Puig  Michael Phillips    0.535898\n",
       "5       1         Lisa Rose  Michael Phillips    0.472136\n",
       "6      12  Michael Phillips         Lisa Rose    0.472136\n",
       "7       3         Lisa Rose      Mick LaSalle    0.414214\n",
       "8      24      Mick LaSalle         Lisa Rose    0.414214\n",
       "9      29      Mick LaSalle              Toby    0.400000\n",
       "10     40              Toby      Mick LaSalle    0.400000"
      ]
     },
     "execution_count": 118,
     "metadata": {},
     "output_type": "execute_result"
    }
   ],
   "source": [
    "top10"
   ]
  },
  {
   "cell_type": "code",
   "execution_count": null,
   "metadata": {},
   "outputs": [],
   "source": []
  }
 ],
 "metadata": {
  "kernelspec": {
   "display_name": "Python 3",
   "language": "python",
   "name": "python3"
  },
  "language_info": {
   "codemirror_mode": {
    "name": "ipython",
    "version": 3
   },
   "file_extension": ".py",
   "mimetype": "text/x-python",
   "name": "python",
   "nbconvert_exporter": "python",
   "pygments_lexer": "ipython3",
   "version": "3.6.4"
  }
 },
 "nbformat": 4,
 "nbformat_minor": 2
}
